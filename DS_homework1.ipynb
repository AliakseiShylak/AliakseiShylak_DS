{
 "cells": [
  {
   "cell_type": "code",
   "execution_count": 2,
   "id": "172df882-0aa3-41d5-9817-e9bc4e9eb069",
   "metadata": {},
   "outputs": [
    {
     "name": "stdout",
     "output_type": "stream",
     "text": [
      "Исходный список: [49, -25, 16, 78, -99, -52, 25, 1, 65, -97]\n",
      "Список в обратном порядке (вариант без цикла): [-97, 65, 1, 25, -52, -99, 78, 16, -25, 49]\n",
      "Список в обратном порядке (вариант c циклом): [-97, 65, 1, 25, -52, -99, 78, 16, -25, 49]\n",
      "-97 нечетное\n",
      "65 нечетное\n",
      "1 нечетное\n",
      "25 нечетное\n",
      "-52 четное\n",
      "-99 нечетное\n",
      "78 четное\n",
      "16 четное\n",
      "-25 нечетное\n",
      "49 нечетное\n"
     ]
    }
   ],
   "source": [
    "from random import sample\n",
    "\n",
    "length = 10\n",
    "nums = sample(range(-100, 101), length)\n",
    "print(\"Исходный список:\", nums)\n",
    "print(\"Список в обратном порядке (вариант без цикла):\", nums[::-1])\n",
    "\n",
    "for i in range(length // 2):\n",
    "    nums[i], nums[length-i-1] = nums[length-i-1], nums[i]\n",
    "print(\"Список в обратном порядке (вариант c циклом):\", nums)\n",
    "\n",
    "i = 0\n",
    "while i < length:\n",
    "    print(nums[i], 'четное' if nums[i] % 2 == 0 else 'нечетное')\n",
    "    i += 1"
   ]
  }
 ],
 "metadata": {
  "kernelspec": {
   "display_name": "Python 3 (ipykernel)",
   "language": "python",
   "name": "python3"
  },
  "language_info": {
   "codemirror_mode": {
    "name": "ipython",
    "version": 3
   },
   "file_extension": ".py",
   "mimetype": "text/x-python",
   "name": "python",
   "nbconvert_exporter": "python",
   "pygments_lexer": "ipython3",
   "version": "3.11.4"
  }
 },
 "nbformat": 4,
 "nbformat_minor": 5
}
